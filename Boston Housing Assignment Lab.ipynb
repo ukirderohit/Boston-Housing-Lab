{
 "cells": [
  {
   "cell_type": "code",
   "execution_count": 1,
   "metadata": {
    "collapsed": true
   },
   "outputs": [],
   "source": [
    "from sklearn import datasets\n",
    "import pandas as pd\n",
    "from sklearn.preprocessing import StandardScaler\n",
    "from sklearn.cross_validation import train_test_split\n",
    "from sklearn.metrics import mean_squared_error\n",
    "from sklearn.metrics import r2_score\n",
    "from sklearn.linear_model import LinearRegression"
   ]
  },
  {
   "cell_type": "code",
   "execution_count": 2,
   "metadata": {
    "collapsed": false
   },
   "outputs": [
    {
     "name": "stdout",
     "output_type": "stream",
     "text": [
      "Boston House Prices dataset\n",
      "\n",
      "Notes\n",
      "------\n",
      "Data Set Characteristics:  \n",
      "\n",
      "    :Number of Instances: 506 \n",
      "\n",
      "    :Number of Attributes: 13 numeric/categorical predictive\n",
      "    \n",
      "    :Median Value (attribute 14) is usually the target\n",
      "\n",
      "    :Attribute Information (in order):\n",
      "        - CRIM     per capita crime rate by town\n",
      "        - ZN       proportion of residential land zoned for lots over 25,000 sq.ft.\n",
      "        - INDUS    proportion of non-retail business acres per town\n",
      "        - CHAS     Charles River dummy variable (= 1 if tract bounds river; 0 otherwise)\n",
      "        - NOX      nitric oxides concentration (parts per 10 million)\n",
      "        - RM       average number of rooms per dwelling\n",
      "        - AGE      proportion of owner-occupied units built prior to 1940\n",
      "        - DIS      weighted distances to five Boston employment centres\n",
      "        - RAD      index of accessibility to radial highways\n",
      "        - TAX      full-value property-tax rate per $10,000\n",
      "        - PTRATIO  pupil-teacher ratio by town\n",
      "        - B        1000(Bk - 0.63)^2 where Bk is the proportion of blacks by town\n",
      "        - LSTAT    % lower status of the population\n",
      "        - MEDV     Median value of owner-occupied homes in $1000's\n",
      "\n",
      "    :Missing Attribute Values: None\n",
      "\n",
      "    :Creator: Harrison, D. and Rubinfeld, D.L.\n",
      "\n",
      "This is a copy of UCI ML housing dataset.\n",
      "http://archive.ics.uci.edu/ml/datasets/Housing\n",
      "\n",
      "\n",
      "This dataset was taken from the StatLib library which is maintained at Carnegie Mellon University.\n",
      "\n",
      "The Boston house-price data of Harrison, D. and Rubinfeld, D.L. 'Hedonic\n",
      "prices and the demand for clean air', J. Environ. Economics & Management,\n",
      "vol.5, 81-102, 1978.   Used in Belsley, Kuh & Welsch, 'Regression diagnostics\n",
      "...', Wiley, 1980.   N.B. Various transformations are used in the table on\n",
      "pages 244-261 of the latter.\n",
      "\n",
      "The Boston house-price data has been used in many machine learning papers that address regression\n",
      "problems.   \n",
      "     \n",
      "**References**\n",
      "\n",
      "   - Belsley, Kuh & Welsch, 'Regression diagnostics: Identifying Influential Data and Sources of Collinearity', Wiley, 1980. 244-261.\n",
      "   - Quinlan,R. (1993). Combining Instance-Based and Model-Based Learning. In Proceedings on the Tenth International Conference of Machine Learning, 236-243, University of Massachusetts, Amherst. Morgan Kaufmann.\n",
      "   - many more! (see http://archive.ics.uci.edu/ml/datasets/Housing)\n",
      "\n"
     ]
    }
   ],
   "source": [
    "bean = datasets.load_boston()\n",
    "print bean.DESCR"
   ]
  },
  {
   "cell_type": "code",
   "execution_count": 3,
   "metadata": {
    "collapsed": true
   },
   "outputs": [],
   "source": [
    "def load_boston():\n",
    "    scaler = StandardScaler()\n",
    "    boston = datasets.load_boston()\n",
    "    X=boston.data\n",
    "    y=boston.target\n",
    "    X = scaler.fit_transform(X)\n",
    "    return train_test_split(X,y)"
   ]
  },
  {
   "cell_type": "code",
   "execution_count": 4,
   "metadata": {
    "collapsed": true
   },
   "outputs": [],
   "source": [
    "X_train, X_test, y_train, y_test = load_boston()"
   ]
  },
  {
   "cell_type": "code",
   "execution_count": 5,
   "metadata": {
    "collapsed": false
   },
   "outputs": [
    {
     "data": {
      "text/plain": [
       "(379L, 13L)"
      ]
     },
     "execution_count": 5,
     "metadata": {},
     "output_type": "execute_result"
    }
   ],
   "source": [
    "X_train.shape"
   ]
  },
  {
   "cell_type": "code",
   "execution_count": 6,
   "metadata": {
    "collapsed": false
   },
   "outputs": [
    {
     "data": {
      "text/plain": [
       "LinearRegression(copy_X=True, fit_intercept=True, n_jobs=1, normalize=False)"
      ]
     },
     "execution_count": 6,
     "metadata": {},
     "output_type": "execute_result"
    }
   ],
   "source": [
    "clf = LinearRegression()\n",
    "clf.fit(X_train, y_train)"
   ]
  },
  {
   "cell_type": "code",
   "execution_count": 7,
   "metadata": {
    "collapsed": false
   },
   "outputs": [
    {
     "data": {
      "text/plain": [
       "[(15.199999999999999, 16.181955797319183),\n",
       " (22.800000000000001, 26.224950297850285),\n",
       " (20.399999999999999, 19.549985206426779),\n",
       " (17.800000000000001, 18.781695183002949),\n",
       " (11.300000000000001, 14.07566237869103),\n",
       " (19.899999999999999, 20.496111707598232),\n",
       " (15.6, 16.292737492484349),\n",
       " (24.5, 19.969187815717916),\n",
       " (44.0, 36.924398800381105),\n",
       " (18.199999999999999, 19.587231970232828),\n",
       " (24.199999999999999, 24.053470893501125),\n",
       " (20.0, 17.180650579728479),\n",
       " (48.5, 40.986165872426056),\n",
       " (11.800000000000001, 9.0591091995706083),\n",
       " (15.199999999999999, 12.156808173706125),\n",
       " (24.300000000000001, 20.36191498494399),\n",
       " (43.100000000000001, 36.347181228925542),\n",
       " (12.5, 19.287385226103151),\n",
       " (21.699999999999999, 20.183505089280473),\n",
       " (33.100000000000001, 31.883410738618068),\n",
       " (21.399999999999999, 24.875277195530327),\n",
       " (19.300000000000001, 16.947186389538977),\n",
       " (21.699999999999999, 23.293623328244163),\n",
       " (11.9, 9.6149877681159026),\n",
       " (32.5, 31.084363547005392),\n",
       " (12.6, 18.195752288926933),\n",
       " (22.600000000000001, 26.855284809625012),\n",
       " (21.5, 20.29284120663787),\n",
       " (44.799999999999997, 36.979764600102897),\n",
       " (13.4, 16.481875037400442),\n",
       " (23.199999999999999, 22.400761507220093),\n",
       " (18.0, 18.44391225036501),\n",
       " (14.1, 15.836818992748732),\n",
       " (50.0, 25.241912756396438),\n",
       " (29.399999999999999, 29.772515116228465),\n",
       " (20.800000000000001, 18.915741240950581),\n",
       " (8.4000000000000004, 14.052266441306124),\n",
       " (18.5, 19.998480323267099),\n",
       " (14.199999999999999, 18.398555511022312),\n",
       " (16.199999999999999, 20.898739892977549),\n",
       " (23.300000000000001, 24.798800484075119),\n",
       " (17.5, 17.138704028737301),\n",
       " (19.399999999999999, 26.23541906696283),\n",
       " (25.0, 24.478357813512623),\n",
       " (28.100000000000001, 24.257460309593046),\n",
       " (18.600000000000001, 19.930731832245019),\n",
       " (25.0, 22.499793301173192),\n",
       " (16.5, 22.281275160585437),\n",
       " (18.899999999999999, 22.428868699779809),\n",
       " (24.600000000000001, 23.638548462640394),\n",
       " (7.2000000000000002, 8.7794602306464284),\n",
       " (24.800000000000001, 25.727963108020166),\n",
       " (30.699999999999999, 30.707415471732364),\n",
       " (13.9, 14.135674900142329),\n",
       " (12.699999999999999, 12.235162053063711),\n",
       " (21.699999999999999, 20.891426845677913),\n",
       " (31.699999999999999, 32.612522644010582),\n",
       " (13.800000000000001, 17.364213819646984),\n",
       " (22.0, 21.093602022530415),\n",
       " (18.300000000000001, 20.838667062589959),\n",
       " (22.199999999999999, 25.760291930897075),\n",
       " (23.699999999999999, 26.912605141694129),\n",
       " (48.299999999999997, 35.749146849791778),\n",
       " (32.0, 33.050431976024129),\n",
       " (18.899999999999999, 19.898984364042487),\n",
       " (18.699999999999999, 21.437893705364512),\n",
       " (20.399999999999999, 20.827468332533289),\n",
       " (18.300000000000001, 19.175020419520038),\n",
       " (43.799999999999997, 33.415338582585264),\n",
       " (23.100000000000001, 16.245449286997005),\n",
       " (17.800000000000001, 9.8216749171961677),\n",
       " (10.5, 12.844218514858522),\n",
       " (17.600000000000001, 17.847432264716751),\n",
       " (10.800000000000001, 11.905029150001521),\n",
       " (22.0, 27.26041416037549),\n",
       " (30.300000000000001, 32.743891597912977),\n",
       " (12.1, 18.299595605055352),\n",
       " (31.5, 30.065460183295471),\n",
       " (50.0, 34.314850782573913),\n",
       " (33.399999999999999, 27.995327317041856),\n",
       " (34.700000000000003, 29.80137232846133),\n",
       " (15.0, 24.490498962717236),\n",
       " (18.199999999999999, 15.447931662945333),\n",
       " (15.300000000000001, 19.28476892127587),\n",
       " (50.0, 39.148166967991628),\n",
       " (19.899999999999999, 18.941822154573515),\n",
       " (16.300000000000001, 12.77875513914646),\n",
       " (17.800000000000001, 16.125596644135207),\n",
       " (50.0, 38.183770344345582),\n",
       " (7.5, 13.219403654387156),\n",
       " (19.0, 14.952660833752473),\n",
       " (30.100000000000001, 29.645246650593009),\n",
       " (13.800000000000001, 11.664415658099122),\n",
       " (19.600000000000001, 23.467878458842858),\n",
       " (22.5, 22.009871515083443),\n",
       " (25.0, 23.87541858808979),\n",
       " (21.0, 22.830977888016179),\n",
       " (16.399999999999999, 18.904275916754401),\n",
       " (7.2000000000000002, 9.7956644577361498),\n",
       " (20.100000000000001, 20.78798600200588),\n",
       " (26.699999999999999, 32.01290538849409),\n",
       " (13.300000000000001, 13.725794890633377),\n",
       " (24.800000000000001, 31.239596781831018),\n",
       " (19.100000000000001, 17.121191897563314),\n",
       " (22.800000000000001, 28.298514839202227),\n",
       " (16.0, 19.858815312337491),\n",
       " (21.600000000000001, 25.166000155048188),\n",
       " (21.100000000000001, 22.152596432709469),\n",
       " (50.0, 42.604742944131658),\n",
       " (19.300000000000001, 20.507160565658957),\n",
       " (41.700000000000003, 36.640907886738248),\n",
       " (28.399999999999999, 28.216444841947542),\n",
       " (13.6, 13.806100508452499),\n",
       " (26.399999999999999, 23.446583690046509),\n",
       " (46.700000000000003, 33.39112812098098),\n",
       " (23.100000000000001, 23.73399737983107),\n",
       " (22.600000000000001, 26.694919264120749),\n",
       " (20.5, 24.551642831494),\n",
       " (50.0, 38.325303738250099),\n",
       " (20.699999999999999, 24.877971909943238),\n",
       " (9.6999999999999993, 10.853103143853563),\n",
       " (19.899999999999999, 17.751393289205538),\n",
       " (35.399999999999999, 33.632260957399765),\n",
       " (17.199999999999999, 17.106168727160448),\n",
       " (20.399999999999999, 20.501254490568147),\n",
       " (29.600000000000001, 24.232348765186014),\n",
       " (22.0, 20.995884830334873)]"
      ]
     },
     "execution_count": 7,
     "metadata": {},
     "output_type": "execute_result"
    }
   ],
   "source": [
    "zip (y_test, clf.predict(X_test))"
   ]
  },
  {
   "cell_type": "code",
   "execution_count": 8,
   "metadata": {
    "collapsed": true
   },
   "outputs": [],
   "source": [
    "y_LrPred=clf.predict(X_test)"
   ]
  },
  {
   "cell_type": "code",
   "execution_count": 9,
   "metadata": {
    "collapsed": true
   },
   "outputs": [],
   "source": [
    "r2Score=r2_score(y_test,y_LrPred)"
   ]
  },
  {
   "cell_type": "code",
   "execution_count": 10,
   "metadata": {
    "collapsed": false
   },
   "outputs": [
    {
     "data": {
      "text/plain": [
       "0.76628607629781209"
      ]
     },
     "execution_count": 10,
     "metadata": {},
     "output_type": "execute_result"
    }
   ],
   "source": [
    "r2Score"
   ]
  },
  {
   "cell_type": "markdown",
   "metadata": {},
   "source": [
    "R^2 Score on Linear Regressor is 0.76628607629781209"
   ]
  },
  {
   "cell_type": "code",
   "execution_count": 11,
   "metadata": {
    "collapsed": true
   },
   "outputs": [],
   "source": [
    "mseValue=mean_squared_error(y_test,y_LrPred)"
   ]
  },
  {
   "cell_type": "code",
   "execution_count": 12,
   "metadata": {
    "collapsed": false
   },
   "outputs": [
    {
     "data": {
      "text/plain": [
       "24.925123520330811"
      ]
     },
     "execution_count": 12,
     "metadata": {},
     "output_type": "execute_result"
    }
   ],
   "source": [
    "mseValue"
   ]
  },
  {
   "cell_type": "markdown",
   "metadata": {},
   "source": [
    "mse on Linear Regressor is 24.925123520330811"
   ]
  },
  {
   "cell_type": "code",
   "execution_count": null,
   "metadata": {
    "collapsed": true
   },
   "outputs": [],
   "source": []
  }
 ],
 "metadata": {
  "kernelspec": {
   "display_name": "Python [Root]",
   "language": "python",
   "name": "Python [Root]"
  },
  "language_info": {
   "codemirror_mode": {
    "name": "ipython",
    "version": 2
   },
   "file_extension": ".py",
   "mimetype": "text/x-python",
   "name": "python",
   "nbconvert_exporter": "python",
   "pygments_lexer": "ipython2",
   "version": "2.7.12"
  }
 },
 "nbformat": 4,
 "nbformat_minor": 0
}
